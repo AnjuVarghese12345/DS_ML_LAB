{
 "cells": [
  {
   "cell_type": "code",
   "execution_count": 1,
   "id": "d03dd84a",
   "metadata": {},
   "outputs": [],
   "source": [
    "import pandas as pd"
   ]
  },
  {
   "cell_type": "code",
   "execution_count": 6,
   "id": "1a97f5c3",
   "metadata": {},
   "outputs": [
    {
     "name": "stdout",
     "output_type": "stream",
     "text": [
      "a    apple\n",
      "b     ball\n",
      "c      cat\n",
      "d      dog\n",
      "e      egg\n",
      "f      fox\n",
      "dtype: object\n"
     ]
    }
   ],
   "source": [
    "x=pd.Series(['apple','ball','cat','dog','egg','fox'],index=['a','b','c','d','e','f'])\n",
    "print(x)"
   ]
  },
  {
   "cell_type": "code",
   "execution_count": 13,
   "id": "cefc5e41",
   "metadata": {},
   "outputs": [
    {
     "name": "stdout",
     "output_type": "stream",
     "text": [
      "DatetimeIndex(['2021-05-01', '2021-05-02', '2021-05-03', '2021-05-04',\n",
      "               '2021-05-05', '2021-05-06', '2021-05-07', '2021-05-08',\n",
      "               '2021-05-09', '2021-05-10', '2021-05-11', '2021-05-12',\n",
      "               '2021-05-13'],\n",
      "              dtype='datetime64[ns]', freq='D')\n"
     ]
    }
   ],
   "source": [
    "date = pd.date_range(start='05-01-2021', end='05-13-2021')\n",
    "print(date)"
   ]
  },
  {
   "cell_type": "code",
   "execution_count": 14,
   "id": "54ed0648",
   "metadata": {},
   "outputs": [
    {
     "name": "stdout",
     "output_type": "stream",
     "text": [
      "  name  roll_no\n",
      "0  abc        1\n",
      "1  cde        2\n",
      "2  efg        3\n"
     ]
    }
   ],
   "source": [
    "data={'name':['abc','cde','efg'],'roll_no':[1,2,3]}\n",
    "print(pd.DataFrame.from_dict(data))"
   ]
  },
  {
   "cell_type": "code",
   "execution_count": 17,
   "id": "592a85d5",
   "metadata": {},
   "outputs": [
    {
     "name": "stdout",
     "output_type": "stream",
     "text": [
      "       A       B\n",
      "0  apple   fruit\n",
      "1    cat  animal\n",
      "2   crow    bird\n"
     ]
    }
   ],
   "source": [
    "l=[['apple','fruit'],['cat','animal'],['crow','bird']]\n",
    "print(pd.DataFrame(l,columns=['A','B']))"
   ]
  },
  {
   "cell_type": "code",
   "execution_count": 32,
   "id": "433e5554",
   "metadata": {},
   "outputs": [
    {
     "name": "stdout",
     "output_type": "stream",
     "text": [
      "               kdrama_name original_networks\n",
      "0       100 Days My Prince               tvN\n",
      "1         12 Signs of Love               tvN\n",
      "2         12 Years Promise              jTBC\n",
      "3                 18 Again              jTBC\n",
      "4     365: Repeat the Year               MBC\n",
      "...                    ...               ...\n",
      "1447  Your Neighbor's Wife              jTBC\n",
      "1448                 Youth               NaN\n",
      "1449          Youth of May               KBS\n",
      "1450          Yumi's Cells               tvN\n",
      "1451      Zombie Detective               KBS\n",
      "\n",
      "[1452 rows x 2 columns]\n"
     ]
    }
   ],
   "source": [
    "df = pd.read_csv('networks.csv')\n",
    "print(df)"
   ]
  },
  {
   "cell_type": "code",
   "execution_count": 31,
   "id": "2017debd",
   "metadata": {},
   "outputs": [
    {
     "name": "stdout",
     "output_type": "stream",
     "text": [
      "               kdrama_name original_networks\n",
      "9                   #Alive     Naver TV Cast\n",
      "0       100 Days My Prince               tvN\n",
      "1         12 Signs of Love               tvN\n",
      "2         12 Years Promise              jTBC\n",
      "3                 18 Again              jTBC\n",
      "...                    ...               ...\n",
      "1447  Your Neighbor's Wife              jTBC\n",
      "1448                 Youth               NaN\n",
      "1449          Youth of May               KBS\n",
      "1450          Yumi's Cells               tvN\n",
      "1451      Zombie Detective               KBS\n",
      "\n",
      "[1452 rows x 2 columns]\n"
     ]
    }
   ],
   "source": [
    "print(df.sort_values(by = 'kdrama_name'))"
   ]
  },
  {
   "cell_type": "code",
   "execution_count": 17,
   "id": "8c1a785d",
   "metadata": {},
   "outputs": [
    {
     "data": {
      "text/html": [
       "<div>\n",
       "<style scoped>\n",
       "    .dataframe tbody tr th:only-of-type {\n",
       "        vertical-align: middle;\n",
       "    }\n",
       "\n",
       "    .dataframe tbody tr th {\n",
       "        vertical-align: top;\n",
       "    }\n",
       "\n",
       "    .dataframe thead th {\n",
       "        text-align: right;\n",
       "    }\n",
       "</style>\n",
       "<table border=\"1\" class=\"dataframe\">\n",
       "  <thead>\n",
       "    <tr style=\"text-align: right;\">\n",
       "      <th></th>\n",
       "      <th>index</th>\n",
       "      <th>rollno</th>\n",
       "      <th>name</th>\n",
       "      <th>age</th>\n",
       "    </tr>\n",
       "  </thead>\n",
       "  <tbody>\n",
       "    <tr>\n",
       "      <th>0</th>\n",
       "      <td>e</td>\n",
       "      <td>NaN</td>\n",
       "      <td>NaN</td>\n",
       "      <td>NaN</td>\n",
       "    </tr>\n",
       "    <tr>\n",
       "      <th>1</th>\n",
       "      <td>d</td>\n",
       "      <td>NaN</td>\n",
       "      <td>NaN</td>\n",
       "      <td>NaN</td>\n",
       "    </tr>\n",
       "    <tr>\n",
       "      <th>2</th>\n",
       "      <td>b</td>\n",
       "      <td>NaN</td>\n",
       "      <td>NaN</td>\n",
       "      <td>NaN</td>\n",
       "    </tr>\n",
       "    <tr>\n",
       "      <th>3</th>\n",
       "      <td>a</td>\n",
       "      <td>NaN</td>\n",
       "      <td>NaN</td>\n",
       "      <td>NaN</td>\n",
       "    </tr>\n",
       "    <tr>\n",
       "      <th>4</th>\n",
       "      <td>c</td>\n",
       "      <td>NaN</td>\n",
       "      <td>NaN</td>\n",
       "      <td>NaN</td>\n",
       "    </tr>\n",
       "  </tbody>\n",
       "</table>\n",
       "</div>"
      ],
      "text/plain": [
       "  index  rollno name  age\n",
       "0     e     NaN  NaN  NaN\n",
       "1     d     NaN  NaN  NaN\n",
       "2     b     NaN  NaN  NaN\n",
       "3     a     NaN  NaN  NaN\n",
       "4     c     NaN  NaN  NaN"
      ]
     },
     "execution_count": 17,
     "metadata": {},
     "output_type": "execute_result"
    }
   ],
   "source": [
    "import pandas as pd\n",
    "data = pd.read_csv('newexe4.csv')\n",
    "index = {'a','b','c','d','e'}\n",
    "df = pd.DataFrame(data,index)\n",
    "df.reset_index(inplace =True)\n",
    "df"
   ]
  },
  {
   "cell_type": "code",
   "execution_count": 18,
   "id": "fb6751e8",
   "metadata": {},
   "outputs": [
    {
     "data": {
      "text/html": [
       "<div>\n",
       "<style scoped>\n",
       "    .dataframe tbody tr th:only-of-type {\n",
       "        vertical-align: middle;\n",
       "    }\n",
       "\n",
       "    .dataframe tbody tr th {\n",
       "        vertical-align: top;\n",
       "    }\n",
       "\n",
       "    .dataframe thead th {\n",
       "        text-align: right;\n",
       "    }\n",
       "</style>\n",
       "<table border=\"1\" class=\"dataframe\">\n",
       "  <thead>\n",
       "    <tr style=\"text-align: right;\">\n",
       "      <th></th>\n",
       "      <th>rollno</th>\n",
       "      <th>name</th>\n",
       "      <th>age</th>\n",
       "    </tr>\n",
       "  </thead>\n",
       "  <tbody>\n",
       "    <tr>\n",
       "      <th>0</th>\n",
       "      <td>1</td>\n",
       "      <td>Anju</td>\n",
       "      <td>22</td>\n",
       "    </tr>\n",
       "    <tr>\n",
       "      <th>1</th>\n",
       "      <td>2</td>\n",
       "      <td>Gouri</td>\n",
       "      <td>21</td>\n",
       "    </tr>\n",
       "  </tbody>\n",
       "</table>\n",
       "</div>"
      ],
      "text/plain": [
       "   rollno   name  age\n",
       "0       1   Anju   22\n",
       "1       2  Gouri   21"
      ]
     },
     "execution_count": 18,
     "metadata": {},
     "output_type": "execute_result"
    }
   ],
   "source": [
    "import pandas as pd\n",
    "record = pd.read_csv('newexe4.csv')\n",
    "df = pd.DataFrame(record)\n",
    "df1=df.head(2)\n",
    "df1"
   ]
  },
  {
   "cell_type": "code",
   "execution_count": 24,
   "id": "74ef74eb",
   "metadata": {},
   "outputs": [
    {
     "name": "stdout",
     "output_type": "stream",
     "text": [
      "occ\n",
      "doctor      40000\n",
      "engineer    30000\n",
      "teacher     33000\n",
      "Name: salary, dtype: int64\n"
     ]
    }
   ],
   "source": [
    "import pandas as pd\n",
    "record = pd.read_csv('exe4new2.csv')\n",
    "avg = record.groupby('occ')['salary'].mean()\n",
    "print(avg)"
   ]
  },
  {
   "cell_type": "code",
   "execution_count": 42,
   "id": "b4d58261",
   "metadata": {},
   "outputs": [
    {
     "data": {
      "text/html": [
       "<div>\n",
       "<style scoped>\n",
       "    .dataframe tbody tr th:only-of-type {\n",
       "        vertical-align: middle;\n",
       "    }\n",
       "\n",
       "    .dataframe tbody tr th {\n",
       "        vertical-align: top;\n",
       "    }\n",
       "\n",
       "    .dataframe thead th {\n",
       "        text-align: right;\n",
       "    }\n",
       "</style>\n",
       "<table border=\"1\" class=\"dataframe\">\n",
       "  <thead>\n",
       "    <tr style=\"text-align: right;\">\n",
       "      <th></th>\n",
       "      <th>rollno</th>\n",
       "      <th>name</th>\n",
       "      <th>age</th>\n",
       "    </tr>\n",
       "  </thead>\n",
       "  <tbody>\n",
       "    <tr>\n",
       "      <th>e</th>\n",
       "      <td>0.0</td>\n",
       "      <td>0</td>\n",
       "      <td>0.0</td>\n",
       "    </tr>\n",
       "    <tr>\n",
       "      <th>d</th>\n",
       "      <td>0.0</td>\n",
       "      <td>0</td>\n",
       "      <td>0.0</td>\n",
       "    </tr>\n",
       "    <tr>\n",
       "      <th>b</th>\n",
       "      <td>0.0</td>\n",
       "      <td>0</td>\n",
       "      <td>0.0</td>\n",
       "    </tr>\n",
       "    <tr>\n",
       "      <th>a</th>\n",
       "      <td>0.0</td>\n",
       "      <td>0</td>\n",
       "      <td>0.0</td>\n",
       "    </tr>\n",
       "    <tr>\n",
       "      <th>c</th>\n",
       "      <td>0.0</td>\n",
       "      <td>0</td>\n",
       "      <td>0.0</td>\n",
       "    </tr>\n",
       "  </tbody>\n",
       "</table>\n",
       "</div>"
      ],
      "text/plain": [
       "   rollno  name  age\n",
       "e     0.0     0  0.0\n",
       "d     0.0     0  0.0\n",
       "b     0.0     0  0.0\n",
       "a     0.0     0  0.0\n",
       "c     0.0     0  0.0"
      ]
     },
     "execution_count": 42,
     "metadata": {},
     "output_type": "execute_result"
    }
   ],
   "source": [
    "import pandas as pd\n",
    "data = pd.read_csv('newexe4.csv')\n",
    "index = {'a','b','c','d','e'}\n",
    "df = df.fillna(0)\n",
    "df"
   ]
  },
  {
   "cell_type": "code",
   "execution_count": 44,
   "id": "e84f6a7c",
   "metadata": {},
   "outputs": [
    {
     "name": "stdout",
     "output_type": "stream",
     "text": [
      "\n",
      "                cname  profit\n",
      "0           shyam&co.   False\n",
      "1  sharma enterprises    True\n",
      "2          A&C stores   False\n",
      "3       BB Furnitures    True\n"
     ]
    }
   ],
   "source": [
    "import pandas as pd\n",
    "data = pd.read_csv('exe4new3.csv')\n",
    "print()\n",
    "data['profit'] = data['profit'].apply(lambda x:x>0)\n",
    "print(data)"
   ]
  },
  {
   "cell_type": "code",
   "execution_count": 48,
   "id": "6f1a7f0e",
   "metadata": {},
   "outputs": [
    {
     "name": "stdout",
     "output_type": "stream",
     "text": [
      "   eid    ename  stipend         position\n",
      "0    1     anju     2000         employee\n",
      "1    2      anu     4000         employee\n",
      "2    3     malu     1500           intern\n",
      "3    4  arunima     3000  senior_employee\n"
     ]
    }
   ],
   "source": [
    "import pandas as pd\n",
    "data1 = pd.read_csv('exe4new4.csv')\n",
    "data2 = pd.read_csv('exe4new5.csv')\n",
    "dataframe = pd.merge(data1,data2,how ='inner',on ='eid')\n",
    "print(dataframe)"
   ]
  }
 ],
 "metadata": {
  "kernelspec": {
   "display_name": "Python 3",
   "language": "python",
   "name": "python3"
  },
  "language_info": {
   "codemirror_mode": {
    "name": "ipython",
    "version": 3
   },
   "file_extension": ".py",
   "mimetype": "text/x-python",
   "name": "python",
   "nbconvert_exporter": "python",
   "pygments_lexer": "ipython3",
   "version": "3.5.6"
  }
 },
 "nbformat": 4,
 "nbformat_minor": 5
}
