{
 "cells": [
  {
   "cell_type": "code",
   "execution_count": 12,
   "id": "c21e6739",
   "metadata": {},
   "outputs": [
    {
     "name": "stdout",
     "output_type": "stream",
     "text": [
      "Original numbers:\n",
      "[7 3 5]\n",
      "[4 2 5]\n",
      "greater\n",
      "[ True  True False]\n",
      "greater_equal\n",
      "[ True  True  True]\n",
      "less\n",
      "[False False False]\n",
      "less_equal\n",
      "[False False  True]\n"
     ]
    }
   ],
   "source": [
    "import numpy as np\n",
    "a = np.array([7,3, 5])\n",
    "b = np.array([4,2, 5])\n",
    "print(\"Original numbers:\")\n",
    "print(a)\n",
    "print(b)\n",
    "print(\"greater\")\n",
    "print(np.greater(a, b))\n",
    "print(\"greater_equal\")\n",
    "print(np.greater_equal(a, b))\n",
    "print(\"less\")\n",
    "print(np.less(a, b))\n",
    "print(\"less_equal\")\n",
    "print(np.less_equal(a, b))"
   ]
  },
  {
   "cell_type": "code",
   "execution_count": 3,
   "id": "eb53ade8",
   "metadata": {},
   "outputs": [
    {
     "name": "stdout",
     "output_type": "stream",
     "text": [
      "Array of all the even integers from 30 to 70\n",
      "[30 32 34 36 38 40 42 44 46 48 50 52 54 56 58 60 62 64 66 68 70]\n"
     ]
    }
   ],
   "source": [
    " import numpy as np\n",
    "x=np.arange(30,71,2)\n",
    "print(\"Even integers from 30 to 70\")\n",
    "print(x) "
   ]
  },
  {
   "cell_type": "code",
   "execution_count": 13,
   "id": "4ec02587",
   "metadata": {},
   "outputs": [
    {
     "name": "stdout",
     "output_type": "stream",
     "text": [
      "Identity matrix:\n",
      "[[1. 0. 0.]\n",
      " [0. 1. 0.]\n",
      " [0. 0. 1.]]\n"
     ]
    }
   ],
   "source": [
    "import numpy as np\n",
    "id_mat=np.identity(3)\n",
    "print('Identity matrix:')\n",
    "print(id_mat)"
   ]
  },
  {
   "cell_type": "code",
   "execution_count": 14,
   "id": "265a21de",
   "metadata": {},
   "outputs": [
    {
     "name": "stdout",
     "output_type": "stream",
     "text": [
      "Initial:\n",
      "[ 0  1  2  3  4  5  6  7  8  9 10 11 12 13 14 15 16 17 18 19 20]\n",
      "Final:\n",
      "[  0   1   2   3   4   5   6   7   8  -9 -10 -11 -12 -13 -14 -15  16  17\n",
      "  18  19  20]\n"
     ]
    }
   ],
   "source": [
    "import numpy as np\n",
    "x = np.arange(21)\n",
    "print(\"Initial:\")\n",
    "print(x)\n",
    "print(\"Final:\")\n",
    "x[(x >= 9) & (x <= 15)] *= -1\n",
    "print(x)"
   ]
  },
  {
   "cell_type": "code",
   "execution_count": 6,
   "id": "dd2043e2",
   "metadata": {},
   "outputs": [
    {
     "name": "stdout",
     "output_type": "stream",
     "text": [
      "[[1 0 0 0 0]\n",
      " [0 2 0 0 0]\n",
      " [0 0 3 0 0]\n",
      " [0 0 0 4 0]\n",
      " [0 0 0 0 5]]\n"
     ]
    }
   ],
   "source": [
    "import numpy as np\n",
    "x = np.diag([1, 2, 3, 4, 5])\n",
    "print(x)"
   ]
  },
  {
   "cell_type": "code",
   "execution_count": 15,
   "id": "1a853678",
   "metadata": {},
   "outputs": [
    {
     "name": "stdout",
     "output_type": "stream",
     "text": [
      "Original :\n",
      "[[6 8 1]\n",
      " [4 2 3]]\n",
      "Sum of elements:\n",
      "24\n",
      "Sum of each column:\n",
      "[10 10  4]\n",
      "Sum of each row:\n",
      "[15  9]\n"
     ]
    }
   ],
   "source": [
    "import numpy as np\n",
    "x = np.array([[6,8,1],[4,2,3]])\n",
    "print(\"Original :\")\n",
    "print(x)\n",
    "print(\"Sum of elements:\")\n",
    "print(np.sum(x))\n",
    "print(\"Sum of each column:\")\n",
    "print(np.sum(x, axis=0))\n",
    "print(\"Sum of each row:\")\n",
    "print(np.sum(x, axis=1))"
   ]
  },
  {
   "cell_type": "code",
   "execution_count": 17,
   "id": "5c032af7",
   "metadata": {},
   "outputs": [
    {
     "name": "stdout",
     "output_type": "stream",
     "text": [
      "Initial array is:\n",
      "[[0 1]\n",
      " [2 3]\n",
      " [4 5]]\n",
      "Final array is:\n",
      "[[0. 1.]\n",
      " [2. 3.]\n",
      " [4. 5.]]\n"
     ]
    }
   ],
   "source": [
    "import numpy as np\n",
    "import os\n",
    "x = np.arange(6).reshape(3, 2)\n",
    "print(\"Initial array is:\")\n",
    "print(x)\n",
    "header = 'col1 col2 col3'\n",
    "np.savetxt('t.txt', x, fmt=\"%d\", header=header) \n",
    "print(\"Final array is:\")\n",
    "result = np.loadtxt('t.txt')\n",
    "print(result)"
   ]
  },
  {
   "cell_type": "code",
   "execution_count": 18,
   "id": "55004a6c",
   "metadata": {},
   "outputs": [
    {
     "name": "stdout",
     "output_type": "stream",
     "text": [
      "1st array:\n",
      "[1 7 8]\n",
      "2nd array:\n",
      "[4 2 1]\n",
      "Testing array equal or not\n",
      "False\n"
     ]
    }
   ],
   "source": [
    "import numpy as np\n",
    "x = np.array([1,7,8])\n",
    "print(\"1st array:\")\n",
    "print(x)\n",
    "y = np.array([4,2,1])\n",
    "print(\"2nd array:\")\n",
    "print(y)\n",
    "print(\"after testing\")\n",
    "array_equal = np.allclose(x, y)\n",
    "print(array_equal)"
   ]
  },
  {
   "cell_type": "code",
   "execution_count": 27,
   "id": "15346c9e",
   "metadata": {},
   "outputs": [
    {
     "name": "stdout",
     "output_type": "stream",
     "text": [
      "Original array:\n",
      "[[ 0  1  2  3]\n",
      " [ 4  5  6  7]\n",
      " [ 8  9 10 11]\n",
      " [12 13 14 15]]\n",
      "\n",
      "after swapping :\n",
      "[[12 13 14 15]\n",
      " [ 4  5  6  7]\n",
      " [ 8  9 10 11]\n",
      " [ 0  1  2  3]]\n"
     ]
    }
   ],
   "source": [
    "import numpy as np\n",
    "n = np.arange(16).reshape(-1, 4)\n",
    "print(\"Original array:\")\n",
    "print(n)\n",
    "print(\"\\nafter swapping :\")\n",
    "n[[0,-1],:]=n[[-1,0],:]\n",
    "print(n)"
   ]
  },
  {
   "cell_type": "code",
   "execution_count": 28,
   "id": "2fc76640",
   "metadata": {},
   "outputs": [
    {
     "name": "stdout",
     "output_type": "stream",
     "text": [
      "1st array:\n",
      "[[1 3 2]\n",
      " [4 5 2]\n",
      " [3 8 2]]\n",
      "2nd array:\n",
      "[[4 3 1]\n",
      " [3 4 5]\n",
      " [4 2 1]]\n",
      "\n",
      "after multiplication:\n",
      "[[ 4  9  2]\n",
      " [12 20 10]\n",
      " [12 16  2]]\n"
     ]
    }
   ],
   "source": [
    "import numpy as np \n",
    "a = np.array([[1, 3, 2],\n",
    "              [4, 5, 2],\n",
    "            [3,8,2]])\n",
    "b = np.array([[4, 3, 1],\n",
    "              [3, 4, 5],\n",
    "              [4,2,1]])\n",
    "print(\"1st array:\") \n",
    "print(a)\n",
    "print(\"2nd array:\") \n",
    "print(b)\n",
    "print(\"\\nafter multiplication:\")\n",
    "print(np.multiply(a, b))"
   ]
  },
  {
   "cell_type": "code",
   "execution_count": null,
   "id": "4aed7cee",
   "metadata": {},
   "outputs": [],
   "source": []
  }
 ],
 "metadata": {
  "kernelspec": {
   "display_name": "Python 3",
   "language": "python",
   "name": "python3"
  },
  "language_info": {
   "codemirror_mode": {
    "name": "ipython",
    "version": 3
   },
   "file_extension": ".py",
   "mimetype": "text/x-python",
   "name": "python",
   "nbconvert_exporter": "python",
   "pygments_lexer": "ipython3",
   "version": "3.5.6"
  }
 },
 "nbformat": 4,
 "nbformat_minor": 5
}
