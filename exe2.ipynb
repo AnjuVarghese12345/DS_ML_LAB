{
 "cells": [
  {
   "cell_type": "code",
   "execution_count": 8,
   "id": "1d088021",
   "metadata": {},
   "outputs": [
    {
     "name": "stdin",
     "output_type": "stream",
     "text": [
      "Enter the no of rows: 2\n",
      "Enter the no of coloumn: 2\n"
     ]
    },
    {
     "name": "stdout",
     "output_type": "stream",
     "text": [
      "Enter the entries in a single line(sepearated by space): \n"
     ]
    },
    {
     "name": "stdin",
     "output_type": "stream",
     "text": [
      " 1 2 3 4\n"
     ]
    },
    {
     "name": "stdout",
     "output_type": "stream",
     "text": [
      "Matrix_1: \n",
      " [[1 2]\n",
      " [3 4]]\n"
     ]
    },
    {
     "name": "stdin",
     "output_type": "stream",
     "text": [
      "Enter the no of rows: 2\n",
      "Enter the no of coloumn: 2\n"
     ]
    },
    {
     "name": "stdout",
     "output_type": "stream",
     "text": [
      "Enter the entries in a single line(sepearated by space): \n"
     ]
    },
    {
     "name": "stdin",
     "output_type": "stream",
     "text": [
      " 2 3 4 5\n"
     ]
    },
    {
     "name": "stdout",
     "output_type": "stream",
     "text": [
      "matrix_2: \n",
      " [[2 3]\n",
      " [4 5]]\n"
     ]
    }
   ],
   "source": [
    "import numpy as np\n",
    "R1 = int(input(\"Enter the no of rows:\"))\n",
    "C1 = int(input(\"Enter the no of coloumn:\"))\n",
    "print(\"Enter the entries in a single line(sepearated by space): \")\n",
    "entries = list(map(int, input().split()))\n",
    "m1 = np.array(entries).reshape(R1,C1)\n",
    "print(\"Matrix_1: \\n\",m1)\n",
    "\n",
    "\n",
    "R2 = int(input(\"Enter the no of rows:\"))\n",
    "C2= int(input(\"Enter the no of coloumn:\"))\n",
    "print(\"Enter the entries in a single line(sepearated by space): \")\n",
    "entries = list(map(int, input().split()))\n",
    "m2 = np.array(entries).reshape(R2,C2)\n",
    "print(\"matrix_2: \\n\",m2)"
   ]
  },
  {
   "cell_type": "code",
   "execution_count": 10,
   "id": "265d5e97",
   "metadata": {},
   "outputs": [
    {
     "name": "stdout",
     "output_type": "stream",
     "text": [
      "1.Dot product\n",
      "[[10 13]\n",
      " [22 29]]\n"
     ]
    }
   ],
   "source": [
    "#1\n",
    "print(\"1.Dot product\")\n",
    "print(np.dot(m1,m2))"
   ]
  },
  {
   "cell_type": "code",
   "execution_count": 13,
   "id": "0a9bdb6e",
   "metadata": {},
   "outputs": [
    {
     "name": "stdout",
     "output_type": "stream",
     "text": [
      "2.Transpose\n",
      "Transpose of matrix1\n",
      "[[1 3]\n",
      " [2 4]]\n",
      "Transpose of matrix2\n",
      "[[2 4]\n",
      " [3 5]]\n"
     ]
    }
   ],
   "source": [
    "#2\n",
    "print(\"2.Transpose\")\n",
    "print(\"Transpose of matrix1\")\n",
    "print(np.transpose(m1))\n",
    "print(\"Transpose of matrix2\")\n",
    "print(np.transpose(m2#Eigen values and eigen vectors\n",
    "\n",
    "w1, v1 = np.linalg.eig(matrix_1)\n",
    "\n",
    "\n",
    "print(\"The eigen values of matrix_1 : \\n\",w1)\n",
    "print(\" The eigen vectors of matrix_1:\\n\",v1)\n",
    "\n",
    "w2 , v2 = np.linalg.eig(matrix_2)\n",
    "\n",
    "print(\"The eigen values of matrix_2 : \\n\",w2)\n",
    "print(\" The eigen vectors of matrix_2:\\n\",v2)\n",
    "))\n"
   ]
  },
  {
   "cell_type": "code",
   "execution_count": 16,
   "id": "0cc9a78f",
   "metadata": {},
   "outputs": [
    {
     "name": "stdout",
     "output_type": "stream",
     "text": [
      "3.Trace\n",
      "Trace of matrix1\n",
      "5\n",
      "Trace of matrix2\n",
      "7\n"
     ]
    }
   ],
   "source": [
    "#3\n",
    "print(\"3.Trace\")\n",
    "print(\"Trace of matrix1\")\n",
    "print(np.trace(m1))\n",
    "print(\"Trace of matrix2\")\n",
    "print(np.trace(m2))"
   ]
  },
  {
   "cell_type": "code",
   "execution_count": 23,
   "id": "05a8bd3f",
   "metadata": {},
   "outputs": [
    {
     "name": "stdout",
     "output_type": "stream",
     "text": [
      "The rank of matrix_1 : 2 \n",
      "The rank of matrix_2 : 2\n"
     ]
    }
   ],
   "source": [
    "#rank\n",
    "print(\"4.Rank\")\n",
    "print(\"The rank of matrix_1 :\",np.linalg.matrix_rank(matrix_1),\"\\nThe rank of matrix_2 :\",np.linalg.matrix_rank(matrix_2))\n"
   ]
  },
  {
   "cell_type": "code",
   "execution_count": 29,
   "id": "f1a578a9",
   "metadata": {},
   "outputs": [
    {
     "name": "stdout",
     "output_type": "stream",
     "text": [
      "5.determinent\n",
      "The determinent of matrix_1 : -2 \n",
      " The determinent of matrix_2 : -2\n"
     ]
    }
   ],
   "source": [
    "#5\n",
    "print(\"5.determinent\")\n",
    "print(\"The determinent of matrix_1 :\",int(np.linalg.det(matrix_1)),\"\\n The determinent of matrix_2 :\",int(np.linalg.det(matrix_2)))\n"
   ]
  },
  {
   "cell_type": "code",
   "execution_count": 27,
   "id": "619cb356",
   "metadata": {},
   "outputs": [
    {
     "name": "stdout",
     "output_type": "stream",
     "text": [
      "The inverse of matrix_1 : \n",
      " [[-2.   1. ]\n",
      " [ 1.5 -0.5]] \n",
      " The inverse of matrix_2 : \n",
      " [[-3.   2. ]\n",
      " [ 2.5 -1.5]]\n"
     ]
    }
   ],
   "source": [
    "#Inverse\n",
    "\n",
    "print(\"The inverse of matrix_1 : \\n\",np.linalg.inv(matrix_1),\"\\n The inverse of matrix_2 : \\n\",np.linalg.inv(matrix_2))\n"
   ]
  },
  {
   "cell_type": "code",
   "execution_count": 28,
   "id": "07c39e66",
   "metadata": {},
   "outputs": [
    {
     "name": "stdout",
     "output_type": "stream",
     "text": [
      "The eigen values of matrix_1 : \n",
      " [-0.37228132  5.37228132]\n",
      " The eigen vectors of matrix_1:\n",
      " [[-0.82456484 -0.41597356]\n",
      " [ 0.56576746 -0.90937671]]\n",
      "The eigen values of matrix_2 : \n",
      " [-0.21699057  9.21699057]\n",
      " The eigen vectors of matrix_2:\n",
      " [[-0.77925158 -0.54107946]\n",
      " [ 0.62671124 -0.84097147]]\n"
     ]
    }
   ],
   "source": [
    "#Eigen values and eigen vectors\n",
    "\n",
    "w1, v1 = np.linalg.eig(matrix_1)\n",
    "\n",
    "#Eigen values and eigen vectors\n",
    "\n",
    "w1, v1 = np.linalg.eig(matrix_1)\n",
    "\n",
    "\n",
    "print(\"The eigen values of matrix_1 : \\n\",w1)\n",
    "print(\" The eigen vectors of matrix_1:\\n\",v1)\n",
    "\n",
    "w2 , v2 = np.linalg.eig(matrix_2)\n",
    "\n",
    "print(\"The eigen values of matrix_2 : \\n\",w2)\n",
    "print(\" The eigen vectors of matrix_2:\\n\",v2)\n",
    "\n",
    "print(\"The eigen values of matrix_1 : \\n\",w1)\n",
    "print(\" The eigen vectors of matrix_1:\\n\",v1)\n",
    "\n",
    "w2 , v2 = np.linalg.eig(matrix_2)\n",
    "\n",
    "print(\"The eigen values of matrix_2 : \\n\",w2)\n",
    "print(\" The eigen vectors of matrix_2:\\n\",v2)\n"
   ]
  }
 ],
 "metadata": {
  "kernelspec": {
   "display_name": "Python 3",
   "language": "python",
   "name": "python3"
  },
  "language_info": {
   "codemirror_mode": {
    "name": "ipython",
    "version": 3
   },
   "file_extension": ".py",
   "mimetype": "text/x-python",
   "name": "python",
   "nbconvert_exporter": "python",
   "pygments_lexer": "ipython3",
   "version": "3.5.6"
  }
 },
 "nbformat": 4,
 "nbformat_minor": 5
}
